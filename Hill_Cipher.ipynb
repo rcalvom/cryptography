{
  "nbformat": 4,
  "nbformat_minor": 0,
  "metadata": {
    "colab": {
      "provenance": []
    },
    "kernelspec": {
      "name": "python3",
      "display_name": "Python 3"
    },
    "language_info": {
      "name": "python"
    }
  },
  "cells": [
    {
      "cell_type": "markdown",
      "source": [
        "# Hill Cipher"
      ],
      "metadata": {
        "id": "yfkE8ZJGwUI7"
      }
    },
    {
      "cell_type": "markdown",
      "source": [
        "**Ricardo Andrés Calvo Méndez**\n",
        "\n",
        "Introducción a la criptografía y a la seguridad de la información"
      ],
      "metadata": {
        "id": "a4QMLFSiwfou"
      }
    },
    {
      "cell_type": "markdown",
      "source": [
        "## Algorithm description"
      ],
      "metadata": {
        "id": "lyxyi959wjd0"
      }
    },
    {
      "cell_type": "markdown",
      "source": [
        "The idea is to take $t$ linear combinations of the $t$ alphabetic characters in one plaintext element, thus producing the $m$ alphabetic characters in one cipher element."
      ],
      "metadata": {
        "id": "NK67wCnLwbte"
      }
    },
    {
      "cell_type": "markdown",
      "source": [
        "## Implementation in Python"
      ],
      "metadata": {
        "id": "Vr7T0xM3wmal"
      }
    },
    {
      "cell_type": "markdown",
      "source": [
        "### Dependences"
      ],
      "metadata": {
        "id": "mfe9jnu54lL_"
      }
    },
    {
      "cell_type": "code",
      "source": [
        "# Using 'numpy' to easy-way matrix representacion\n",
        "import numpy as np"
      ],
      "metadata": {
        "id": "asYlxhn25uT0"
      },
      "execution_count": 1,
      "outputs": []
    },
    {
      "cell_type": "markdown",
      "source": [
        "### Utilities"
      ],
      "metadata": {
        "id": "mpgaer9zFDkX"
      }
    },
    {
      "cell_type": "code",
      "source": [
        "# Extended Euclidean Algorithm\n",
        "def EEA(a, b):\n",
        "  if b == 0:\n",
        "    return a, 1, 0\n",
        "  q = a // b\n",
        "  dp, xp, yp = EEA(b, a % b)\n",
        "  return dp, yp, xp - q * yp"
      ],
      "metadata": {
        "id": "ZiYuNGM--IWn"
      },
      "execution_count": 2,
      "outputs": []
    },
    {
      "cell_type": "code",
      "source": [
        "# Greatest common divisor\n",
        "def GCD(a, b):\n",
        "  d, _, _ = EEA(a, b)\n",
        "  return d"
      ],
      "metadata": {
        "id": "XPCl0n9OFiai"
      },
      "execution_count": 3,
      "outputs": []
    },
    {
      "cell_type": "code",
      "source": [
        "# Modular inverse of a given matrix\n",
        "def modular_inverse(matrix, module):\n",
        "  determinant = np.linalg.det(matrix).round()\n",
        "  cofactor_matrix = np.linalg.inv(matrix).T * determinant\n",
        "  adjoint = np.transpose(cofactor_matrix)\n",
        "  _ , modular_determinant, _ = EEA(determinant, module)\n",
        "  modular_inverse = (modular_determinant * adjoint) % module\n",
        "  return np.matrix.round(modular_inverse).astype(int)"
      ],
      "metadata": {
        "id": "yhI5ITK1ljAo"
      },
      "execution_count": 4,
      "outputs": []
    },
    {
      "cell_type": "markdown",
      "source": [
        "### Key generator"
      ],
      "metadata": {
        "id": "ZpZprepX-LIM"
      }
    },
    {
      "cell_type": "code",
      "source": [
        "# Function to generate encrypt and decrypt for this algorithm. This key are a modular matrix and its inverse\n",
        "def generate_key(size):\n",
        "  while True:\n",
        "    encrypt_key = np.random.randint(26, size=(size, size))\n",
        "    determinant = np.linalg.det(encrypt_key).round()\n",
        "    if determinant != 0 and GCD(determinant, 26) == 1:\n",
        "      break\n",
        "  decrypt_key = modular_inverse(encrypt_key, 26)\n",
        "  return encrypt_key, decrypt_key"
      ],
      "metadata": {
        "id": "iQrI76fR-PXt"
      },
      "execution_count": 5,
      "outputs": []
    },
    {
      "cell_type": "markdown",
      "source": [
        "### Encrypy function"
      ],
      "metadata": {
        "id": "Uf7BEqMyxUwq"
      }
    },
    {
      "cell_type": "code",
      "source": [
        "# Function to encrypt a given message using the Hill cipher\n",
        "def encrypt(message, key):\n",
        "  alphabet = 'ABCDEFGHIJKLMNOPQRSTUVWXYZ'\n",
        "  message = message.upper()\n",
        "  message = message.replace(' ', '')\n",
        "  ciphertext = ''\n",
        "  size = key.shape[0]\n",
        "  message += 'X' * ((size - len(message)) % size)\n",
        "  for index in range(0, len(message), size):\n",
        "    m = np.array([alphabet.index(x) for x in message[index: index + size]])\n",
        "    c = m @ key\n",
        "    ciphertext += ''.join([alphabet[x % 26] for x in c])\n",
        "  return ciphertext"
      ],
      "metadata": {
        "id": "JQW9c117xWnT"
      },
      "execution_count": 6,
      "outputs": []
    },
    {
      "cell_type": "markdown",
      "source": [
        "### Decrypt function"
      ],
      "metadata": {
        "id": "xwgDf-hiysY8"
      }
    },
    {
      "cell_type": "code",
      "source": [
        "# Function to decrypt a given covered message using the Hill cipher\n",
        "def decrypt(ciphertext, key):\n",
        "  alphabet = 'ABCDEFGHIJKLMNOPQRSTUVWXYZ'\n",
        "  ciphertext = ciphertext.upper()\n",
        "  ciphertext = ciphertext.replace(' ', '')\n",
        "  message = ''\n",
        "  size = key.shape[0]\n",
        "  for index in range(0, len(ciphertext), size):\n",
        "    c = np.array([alphabet.index(x) for x in ciphertext[index: index + size]])\n",
        "    m = c @ key\n",
        "    message += ''.join([alphabet[x % 26] for x in m])\n",
        "  return message"
      ],
      "metadata": {
        "id": "CMhrBun8yrlp"
      },
      "execution_count": 7,
      "outputs": []
    },
    {
      "cell_type": "markdown",
      "source": [
        "### Hill function\n"
      ],
      "metadata": {
        "id": "bWENpgtEy4Fq"
      }
    },
    {
      "cell_type": "code",
      "source": [
        "# Hill Cipher \n",
        "def hill(message, key, decrypt_mode=True):\n",
        "  if decrypt_mode:\n",
        "    return decrypt(message, key)\n",
        "  else:\n",
        "    return encrypt(message, key)"
      ],
      "metadata": {
        "id": "VNMqVmhty7yr"
      },
      "execution_count": 8,
      "outputs": []
    },
    {
      "cell_type": "markdown",
      "source": [
        "## Example"
      ],
      "metadata": {
        "id": "R47JbiSxzGBG"
      }
    },
    {
      "cell_type": "code",
      "execution_count": 9,
      "metadata": {
        "colab": {
          "base_uri": "https://localhost:8080/"
        },
        "id": "eSDtDtHQkYpL",
        "outputId": "c8198074-b7e1-45b0-ab5c-c456bb3c9d33"
      },
      "outputs": [
        {
          "output_type": "stream",
          "name": "stdout",
          "text": [
            "Size of key (t): \n",
            " 2\n",
            "Encrypt key : \n",
            " [[16  1]\n",
            " [23  4]]\n",
            "Decrypt key : \n",
            " [[ 2 19]\n",
            " [21  8]]\n",
            "Message: \n",
            " I WILL ENCRYPT THIS MESSAGE TO COVER IMPORTANT INFORMATION\n",
            "Cipher text: \n",
            " KSRAIBUVSJBNXVWCYCAMIYHCKWFUNUOEQTHPNAUZLHREKMUZDO\n",
            "Recovered message (undebugged): \n",
            " IWILLENCRYPTTHISMESSAGETOCOVERIMPORTANTINFORMATION\n"
          ]
        }
      ],
      "source": [
        "# Define 't' as the size of the square matrix used as key in this algorithm \n",
        "t = 2\n",
        "print(\"Size of key (t): \\n\", t)\n",
        "\n",
        "# Generate a random matrix and its modular inverse, used as key in this algorithm\n",
        "encrypt_key, decrypt_key = generate_key(t)\n",
        "print(\"Encrypt key : \\n\", encrypt_key)\n",
        "print(\"Decrypt key : \\n\", decrypt_key)\n",
        "\n",
        "# Define the message to encrypt using this algorithm\n",
        "message = 'I WILL ENCRYPT THIS MESSAGE TO COVER IMPORTANT INFORMATION' \n",
        "print(\"Message: \\n\", message)\n",
        "\n",
        "# Cipher the message using the Hill algorithm\n",
        "ciphertext = hill(message, encrypt_key, decrypt_mode=False)\n",
        "print(\"Cipher text: \\n\", ciphertext)\n",
        "\n",
        "# Recover the original message using the Hill algorithm (undebugged message)\n",
        "recovered_message = hill(ciphertext, decrypt_key, decrypt_mode=True)\n",
        "print(\"Recovered message (undebugged): \\n\", recovered_message)"
      ]
    }
  ]
}
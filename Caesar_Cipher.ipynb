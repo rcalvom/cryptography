{
  "nbformat": 4,
  "nbformat_minor": 0,
  "metadata": {
    "colab": {
      "name": "Caesar Cipher.ipynb",
      "provenance": []
    },
    "kernelspec": {
      "name": "python3",
      "display_name": "Python 3"
    },
    "language_info": {
      "name": "python"
    }
  },
  "cells": [
    {
      "cell_type": "markdown",
      "source": [
        "# Caesar’s Cipher"
      ],
      "metadata": {
        "id": "yfkE8ZJGwUI7"
      }
    },
    {
      "cell_type": "markdown",
      "source": [
        "**Ricardo Andrés Calvo Méndez**\n",
        "\n",
        "Introducción a la criptografía y a la seguridad de la información"
      ],
      "metadata": {
        "id": "a4QMLFSiwfou"
      }
    },
    {
      "cell_type": "markdown",
      "source": [
        "## Algorithm description"
      ],
      "metadata": {
        "id": "lyxyi959wjd0"
      }
    },
    {
      "cell_type": "markdown",
      "source": [
        "Replaces each letter with the letter $k$ places places up the alphabet."
      ],
      "metadata": {
        "id": "NK67wCnLwbte"
      }
    },
    {
      "cell_type": "markdown",
      "source": [
        "## Implementation in Python"
      ],
      "metadata": {
        "id": "Vr7T0xM3wmal"
      }
    },
    {
      "cell_type": "markdown",
      "source": [
        "### Encrypy function"
      ],
      "metadata": {
        "id": "Uf7BEqMyxUwq"
      }
    },
    {
      "cell_type": "code",
      "source": [
        "# Function to encrypt a given message using the Caesar's cipher\n",
        "def encrypt(message, k):\n",
        "  alphabet = 'ABCDEFGHIJKLMNOPQRSTUVWXYZ'\n",
        "  ciphertext = ''\n",
        "  for letter in message:\n",
        "    if letter in alphabet:\n",
        "        ciphertext += alphabet[(alphabet.find(letter) + k + len(alphabet)) % len(alphabet)]\n",
        "  return ciphertext"
      ],
      "metadata": {
        "id": "JQW9c117xWnT"
      },
      "execution_count": null,
      "outputs": []
    },
    {
      "cell_type": "markdown",
      "source": [
        "### Decrypt function"
      ],
      "metadata": {
        "id": "xwgDf-hiysY8"
      }
    },
    {
      "cell_type": "code",
      "source": [
        "# Function to decrypt a given covered message using the Caesar's cipher\n",
        "def decrypt(ciphertext, k):\n",
        "  alphabet = 'ABCDEFGHIJKLMNOPQRSTUVWXYZ'\n",
        "  message = ''\n",
        "  for letter in ciphertext:\n",
        "    if letter in alphabet:\n",
        "        message += alphabet[(alphabet.find(letter) - k + len(alphabet)) % len(alphabet)]\n",
        "  return message"
      ],
      "metadata": {
        "id": "CMhrBun8yrlp"
      },
      "execution_count": null,
      "outputs": []
    },
    {
      "cell_type": "markdown",
      "source": [
        "### Caesar function\n"
      ],
      "metadata": {
        "id": "bWENpgtEy4Fq"
      }
    },
    {
      "cell_type": "code",
      "source": [
        "# Caesar's Cipher \n",
        "def caesar(message, k, decrypt_mode=True):\n",
        "  if decrypt_mode:\n",
        "    return decrypt(message, k)\n",
        "  else:\n",
        "    return encrypt(message, k)"
      ],
      "metadata": {
        "id": "VNMqVmhty7yr"
      },
      "execution_count": null,
      "outputs": []
    },
    {
      "cell_type": "markdown",
      "source": [
        "## Example"
      ],
      "metadata": {
        "id": "R47JbiSxzGBG"
      }
    },
    {
      "cell_type": "code",
      "execution_count": null,
      "metadata": {
        "colab": {
          "base_uri": "https://localhost:8080/"
        },
        "id": "eSDtDtHQkYpL",
        "outputId": "6b970f81-a2d6-4c72-8703-9dfa9a8c70fd"
      },
      "outputs": [
        {
          "output_type": "stream",
          "name": "stdout",
          "text": [
            "Number of permutations (k): \n",
            " 8\n",
            "Message: \n",
            " I WILL ENCRYPT THIS MESSAGE TO COVER IMPORTANT INFORMATION\n",
            "Cipher text: \n",
            " QEQTTMVKZGXBBPQAUMAAIOMBWKWDMZQUXWZBIVBQVNWZUIBQWV\n",
            "Recovered message (undebugged): \n",
            " IWILLENCRYPTTHISMESSAGETOCOVERIMPORTANTINFORMATION\n"
          ]
        }
      ],
      "source": [
        "# Define number of permutations to perform in the cipher\n",
        "k = 8\n",
        "print(\"Number of permutations (k): \\n\", k)\n",
        "\n",
        "# Define the message to encrypt using this algorithm\n",
        "message = 'I WILL ENCRYPT THIS MESSAGE TO COVER IMPORTANT INFORMATION' \n",
        "print(\"Message: \\n\", message)\n",
        "\n",
        "# Cipher the message using the Caesar's algorithm\n",
        "ciphertext = caesar(message, k, decrypt_mode=False)\n",
        "print(\"Cipher text: \\n\", ciphertext)\n",
        "\n",
        "# Recover the original message using the Caesar's algorithm (undebugged message)\n",
        "recovered_message = caesar(ciphertext, k, decrypt_mode=True)\n",
        "print(\"Recovered message (undebugged): \\n\", recovered_message)"
      ]
    }
  ]
}
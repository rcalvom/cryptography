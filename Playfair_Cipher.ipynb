{
  "nbformat": 4,
  "nbformat_minor": 0,
  "metadata": {
    "colab": {
      "name": "Playfair Cipher.ipynb",
      "provenance": [],
      "collapsed_sections": []
    },
    "kernelspec": {
      "name": "python3",
      "display_name": "Python 3"
    },
    "language_info": {
      "name": "python"
    }
  },
  "cells": [
    {
      "cell_type": "markdown",
      "source": [
        "# Playfair Cipher"
      ],
      "metadata": {
        "id": "OAiBBkMd2RBO"
      }
    },
    {
      "cell_type": "markdown",
      "source": [
        "**Ricardo Andrés Calvo Méndez**\n",
        "\n",
        "Introducción a la criptografía y a la seguridad de la información"
      ],
      "metadata": {
        "id": "PTSaLIO_G2_g"
      }
    },
    {
      "cell_type": "markdown",
      "source": [
        "## Algorithm description"
      ],
      "metadata": {
        "id": "eBEvTOMr3uZQ"
      }
    },
    {
      "cell_type": "markdown",
      "source": [
        "We need to break the plaintext up into two-letter groups. If letters in a pair are the same, insert *X* between them. If there is only one letter in the last group, add *X* to it. To encrypt find each two- letter group in the square and if they are:\n",
        "\n",
        "* In the same column – use the letter below it as the cipher text,\n",
        "* In the same row – use the letter to the right as the cipher text,\n",
        "* Neither – each letter is exchanged with the letter at the intersection of its own row and the other column.\n",
        "\n",
        "For deciphering, the rules are the exact opposite."
      ],
      "metadata": {
        "id": "suhEp3yK2hZQ"
      }
    },
    {
      "cell_type": "markdown",
      "source": [
        "## Implementation in Python\n"
      ],
      "metadata": {
        "id": "wWYoaB4E4d2-"
      }
    },
    {
      "cell_type": "markdown",
      "source": [
        "### Dependencies\n"
      ],
      "metadata": {
        "id": "p6_3JoJQ4jf0"
      }
    },
    {
      "cell_type": "code",
      "source": [
        "# Using 'numpy' from easy-way matrix representacion\n",
        "import numpy as np"
      ],
      "metadata": {
        "id": "ajoGQUXo4ppA"
      },
      "execution_count": 3,
      "outputs": []
    },
    {
      "cell_type": "markdown",
      "source": [
        "### Key generator function (based on keyword)"
      ],
      "metadata": {
        "id": "dfCMb9VG2zeC"
      }
    },
    {
      "cell_type": "code",
      "source": [
        "# Function to generate the 5x5 matrix used as key in this algorithm\n",
        "def generate_key(keyword):\n",
        "  keyword = keyword.upper()\n",
        "  keyword = keyword.replace(' ', '')\n",
        "  keyword = keyword.replace('J', 'I')\n",
        "  alphabet = 'ABCDEFGHIKLMNOPQRSTUVWXYZ'\n",
        "  key = np.array([\n",
        "    ['', '', '', '', ''],\n",
        "    ['', '', '', '', ''],\n",
        "    ['', '', '', '', ''],\n",
        "    ['', '', '', '', ''],\n",
        "    ['', '', '', '', '']\n",
        "  ])\n",
        "  index = 0\n",
        "  for letter in keyword:\n",
        "    if letter in alphabet:\n",
        "      key[index // 5, index % 5] = letter\n",
        "      alphabet = alphabet.replace(letter, '')\n",
        "      index += 1\n",
        "  for letter in alphabet:\n",
        "    key[index // 5, index % 5] = letter\n",
        "    index += 1\n",
        "  return key"
      ],
      "metadata": {
        "id": "VcaVdUn94V4S"
      },
      "execution_count": 71,
      "outputs": []
    },
    {
      "cell_type": "markdown",
      "source": [
        "### Encrypy function"
      ],
      "metadata": {
        "id": "mI6m3eFs5c0I"
      }
    },
    {
      "cell_type": "code",
      "execution_count": 70,
      "metadata": {
        "id": "SczC0L6czbc-"
      },
      "outputs": [],
      "source": [
        "# Function to encrypt a given message using a given key with the playfair algorithm\n",
        "def encrypt(message, key):\n",
        "  message = message.upper()\n",
        "  message = message.replace(' ', '')\n",
        "  message = message.replace('J', 'I')\n",
        "  for index in range(0, len(message), 2):\n",
        "    if message[index] == message[index + 1]:\n",
        "      message = message[:index + 1] + 'X' + message[index + 1:]\n",
        "  if len(message) % 2 == 1:\n",
        "    message = message + 'X'\n",
        "  result = ''\n",
        "  for index in range(0, len(message), 2):\n",
        "    index0 = np.where(key == message[index])\n",
        "    index1 = np.where(key == message[index + 1])\n",
        "    if index0[0][0] == index1[0][0]:\n",
        "      result = result + key[index0[0][0], (index0[1][0] + 1) % 5] + key[index1[0][0], (index1[1][0] + 1) % 5]\n",
        "    elif index0[1][0] == index1[1][0]:\n",
        "      result = result + key[(index0[0][0] + 1) % 5, index0[1][0]] + key[(index1[0][0] + 1) % 5, index1[1][0]]\n",
        "    else:\n",
        "      result = result + key[index0[0][0], index1[1][0]] + key[index1[0][0], index0[1][0]]  \n",
        "  return result"
      ]
    },
    {
      "cell_type": "markdown",
      "source": [
        "### Decrypt function\n"
      ],
      "metadata": {
        "id": "XfxZ4MW3516Y"
      }
    },
    {
      "cell_type": "code",
      "source": [
        "# Function to decrypt a given covered message using a given key with the playfair algorithm\n",
        "def decrypt(message, key):\n",
        "  result = ''\n",
        "  for index in range(0, len(message), 2):\n",
        "    index0 = np.where(key == message[index])\n",
        "    index1 = np.where(key == message[index + 1])\n",
        "    if index0[0][0] == index1[0][0]:\n",
        "      result = result + key[index0[0][0], (index0[1][0] + 4) % 5] + key[index1[0][0], (index1[1][0] + 4) % 5]\n",
        "    elif index0[1][0] == index1[1][0]:\n",
        "      result = result + key[(index0[0][0] + 4) % 5, index0[1][0]] + key[(index1[0][0] + 4) % 5, index1[1][0]]\n",
        "    else:\n",
        "      result = result + key[index0[0][0], index1[1][0]] + key[index1[0][0], index0[1][0]]  \n",
        "  return result\n",
        "\n",
        "key = generate_key('CRYPTOGRAPHY')\n",
        "message = 'I WILL ENCRYPT THIS MESSAGE TO COVER IMPORTANT INFORMATION' "
      ],
      "metadata": {
        "id": "BXoKaQuV56T4"
      },
      "execution_count": 69,
      "outputs": []
    },
    {
      "cell_type": "markdown",
      "source": [
        "### Playfair function"
      ],
      "metadata": {
        "id": "IZyNannhD8aY"
      }
    },
    {
      "cell_type": "code",
      "source": [
        "# Playfair Cipher \n",
        "def playfair(message, key, decrypt_mode=True):\n",
        "  if decrypt_mode:\n",
        "    return decrypt(message, key)\n",
        "  else:\n",
        "    return encrypt(message, key)"
      ],
      "metadata": {
        "id": "pxbA4VvGEC4d"
      },
      "execution_count": 67,
      "outputs": []
    },
    {
      "cell_type": "markdown",
      "source": [
        "## Example"
      ],
      "metadata": {
        "id": "UjXiVGWBEigo"
      }
    },
    {
      "cell_type": "code",
      "source": [
        "# Generate playfair key using keyword 'CRYPTOGRAPHY'\n",
        "key = generate_key('CRYPTOGRAPHY')\n",
        "print(\"Key: \\n\", key)\n",
        "\n",
        "# Define the message to encrypt using this algorithm\n",
        "message = 'I WILL ENCRYPT THIS MESSAGE TO COVER IMPORTANT INFORMATION' \n",
        "print(\"Message: \\n\", message)\n",
        "\n",
        "# Cipher the message using the playfair algorithm\n",
        "ciphertext = playfair(message, key, decrypt_mode=False)\n",
        "print(\"Cipher text: \\n\", ciphertext)\n",
        "\n",
        "# Recover the original message using the playfair algorithm (undebugged message)\n",
        "recovered_message = playfair(ciphertext, key, decrypt_mode=True)\n",
        "print(\"Recovered message (undebugged): \\n\", recovered_message)"
      ],
      "metadata": {
        "colab": {
          "base_uri": "https://localhost:8080/"
        },
        "id": "S9K5HxMdEmWs",
        "outputId": "5d913b70-d51a-4e76-e4e7-14d990476102"
      },
      "execution_count": 68,
      "outputs": [
        {
          "output_type": "stream",
          "name": "stdout",
          "text": [
            "Key: \n",
            " [['C' 'R' 'Y' 'P' 'T']\n",
            " ['O' 'G' 'A' 'H' 'B']\n",
            " ['D' 'E' 'F' 'I' 'K']\n",
            " ['L' 'M' 'N' 'Q' 'S']\n",
            " ['U' 'V' 'W' 'X' 'Z']]\n",
            "Message: \n",
            " I WILL ENCRYPT THIS MESSAGE TO COVER IMPORTANT INFORMATION\n",
            "Cipher text: \n",
            " FXDQMDLYYPTCPBKQVMQZNBEMCBODRMPEQRGCYBSYFQDAGVBYDHQW\n",
            "Recovered message (undebugged): \n",
            " IWILLENCRYPTTHISMESXSAGETOCOVERIMPORTANTINFORMATIONX\n"
          ]
        }
      ]
    }
  ]
}